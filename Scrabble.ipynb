{
 "cells": [
  {
   "cell_type": "code",
   "execution_count": 1,
   "id": "5b273c62",
   "metadata": {},
   "outputs": [],
   "source": [
    "letters = [\"A\", \"B\", \"C\", \"D\", \"E\", \"F\", \"G\", \"H\", \"I\", \"J\", \"K\", \"L\",\n",
    "           \"M\", \"N\", \"O\", \"P\", \"Q\", \"R\", \"S\", \"T\", \"U\", \"V\", \"W\", \"X\", \"Y\", \"Z\"]\n",
    "points = [1, 3, 3, 2, 1, 4, 2, 4, 1, 8, 5, 1,\n",
    "          3, 4, 1, 3, 10, 1, 1, 1, 1, 4, 4, 8, 4, 10]"
   ]
  },
  {
   "cell_type": "code",
   "execution_count": 2,
   "id": "50320c81",
   "metadata": {},
   "outputs": [
    {
     "name": "stdout",
     "output_type": "stream",
     "text": [
      "{'A': 1, 'B': 3, 'C': 3, 'D': 2, 'E': 1, 'F': 4, 'G': 2, 'H': 4, 'I': 1, 'J': 8, 'K': 5, 'L': 1, 'M': 3, 'N': 4, 'O': 1, 'P': 3, 'Q': 10, 'R': 1, 'S': 1, 'T': 1, 'U': 1, 'V': 4, 'W': 4, 'X': 8, 'Y': 4, 'Z': 10, 'a': 1, 'b': 3, 'c': 3, 'd': 2, 'e': 1, 'f': 4, 'g': 2, 'h': 4, 'i': 1, 'j': 8, 'k': 5, 'l': 1, 'm': 3, 'n': 4, 'o': 1, 'p': 3, 'q': 10, 'r': 1, 's': 1, 't': 1, 'u': 1, 'v': 4, 'w': 4, 'x': 8, 'y': 4, 'z': 10}\n"
     ]
    }
   ],
   "source": [
    "# Expands the list of uppercase letters by adding lowercase letters and its respective points by doubling the point list\n",
    "\n",
    "\n",
    "letters += [letter.lower() for letter in letters]\n",
    "points *= 2\n",
    "letter_to_points = {key: value for key, value in zip(letters, points)}\n",
    "\n",
    "print(letter_to_points)"
   ]
  },
  {
   "cell_type": "code",
   "execution_count": 3,
   "id": "8ddf8775",
   "metadata": {},
   "outputs": [
    {
     "name": "stdout",
     "output_type": "stream",
     "text": [
      "15\n"
     ]
    }
   ],
   "source": [
    "# Returns the score of a given word\n",
    "\n",
    "\n",
    "def score_word(word):\n",
    "    return sum([letter_to_points.setdefault(char) for char in word])\n",
    "\n",
    "# Test of score_word function\n",
    "print(score_word(\"BROWNIE\"))"
   ]
  },
  {
   "cell_type": "code",
   "execution_count": 4,
   "id": "51954058",
   "metadata": {},
   "outputs": [],
   "source": [
    "# Sample list\n",
    "\n",
    "\n",
    "player_to_words = {\n",
    "    \"player1\": [\"blue\", \"tennis\", \"exit\"],\n",
    "    \"wordNerd\": [\"earth\", \"eyes\", \"machine\"],\n",
    "    \"Lexi Con\": [\"eraser\", \"belly\", \"husky\"],\n",
    "    \"Prof Reader\": [\"zap\", \"coma\", \"period\"]\n",
    "}"
   ]
  },
  {
   "cell_type": "code",
   "execution_count": 5,
   "id": "e04a06e8",
   "metadata": {},
   "outputs": [],
   "source": [
    "# Calculates the score of all players by taking every player's word from player_to_words dictionary, and calculating its points.\n",
    "\n",
    "\n",
    "def update_point_totals():\n",
    "    player_to_points = {player: sum([score_word(\n",
    "        word) for word in player_to_words[player]]) for player, words in player_to_words.items()}\n",
    "    return player_to_points"
   ]
  },
  {
   "cell_type": "code",
   "execution_count": 6,
   "id": "f1412935",
   "metadata": {},
   "outputs": [],
   "source": [
    "# Function takes a word and appends it to a specified player's list\n",
    "\n",
    "\n",
    "def play_word(player, word):\n",
    "    player_to_words[player].append(word)\n",
    "    \n",
    "# Test of play_word function\n",
    "play_word(\"player1\", \"CODE\")"
   ]
  },
  {
   "cell_type": "code",
   "execution_count": 7,
   "id": "98f150b4",
   "metadata": {},
   "outputs": [
    {
     "name": "stdout",
     "output_type": "stream",
     "text": [
      "player1 ['blue', 'tennis', 'exit', 'CODE'] \n",
      "\n",
      "wordNerd ['earth', 'eyes', 'machine'] \n",
      "\n",
      "Lexi Con ['eraser', 'belly', 'husky'] \n",
      "\n",
      "Prof Reader ['zap', 'coma', 'period'] \n",
      "\n"
     ]
    }
   ],
   "source": [
    "# Prints updated list of players and their words\n",
    "\n",
    "\n",
    "for key, value in player_to_words.items():\n",
    "    print(key, value, \"\\n\")"
   ]
  },
  {
   "cell_type": "code",
   "execution_count": 8,
   "id": "1c612af2",
   "metadata": {},
   "outputs": [
    {
     "name": "stdout",
     "output_type": "stream",
     "text": [
      "{'player1': 36, 'wordNerd': 32, 'Lexi Con': 31, 'Prof Reader': 31}\n"
     ]
    }
   ],
   "source": [
    "# Every update has to be before this variable otherwise the scoreboard will be missing data provided after this variable\n",
    "\n",
    "\n",
    "player_to_points = update_point_totals()\n",
    "print(player_to_points)"
   ]
  }
 ],
 "metadata": {
  "kernelspec": {
   "display_name": "Python 3 (ipykernel)",
   "language": "python",
   "name": "python3"
  },
  "language_info": {
   "codemirror_mode": {
    "name": "ipython",
    "version": 3
   },
   "file_extension": ".py",
   "mimetype": "text/x-python",
   "name": "python",
   "nbconvert_exporter": "python",
   "pygments_lexer": "ipython3",
   "version": "3.10.4"
  }
 },
 "nbformat": 4,
 "nbformat_minor": 5
}
